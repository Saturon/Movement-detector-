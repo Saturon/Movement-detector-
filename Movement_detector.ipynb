{
  "cells": [
    {
      "cell_type": "code",
      "execution_count": null,
      "metadata": {
        "colab": {
          "base_uri": "https://localhost:8080/"
        },
        "id": "E2ixa1KbelyJ",
        "outputId": "7e6ae1ae-f960-4880-9d3d-984bcbea9654"
      },
      "outputs": [
        {
          "output_type": "stream",
          "name": "stdout",
          "text": [
            "Drive already mounted at /content/drive; to attempt to forcibly remount, call drive.mount(\"/content/drive\", force_remount=True).\n"
          ]
        }
      ],
      "source": [
        "import cv2 # импорт модуля cv2\n",
        "from google.colab import drive\n",
        "from google.colab.patches import cv2_imshow\n",
        "drive.mount('/content/drive')\n",
        "import time"
      ]
    },
    {
      "cell_type": "code",
      "execution_count": null,
      "metadata": {
        "id": "UKnJwr3ffIhm"
      },
      "outputs": [],
      "source": [
        "video =  cv2.VideoCapture(\"/content/drive/MyDrive/Content/video3.mp4\")\n",
        "\n",
        "\n",
        "#video = cv2.VideoCapture(0);  \n",
        "#video.set(1280) \n",
        "#video.set(700) \n",
        "#Вместо cv2_imshow(frame1)  было бы cv2.imshow(\"Видео\", frame1)\n",
        "#cap.release() \n",
        "#cv2.destroyAllWindows()"
      ]
    },
    {
      "cell_type": "code",
      "execution_count": null,
      "metadata": {
        "id": "9UBQF55cioL0"
      },
      "outputs": [],
      "source": [
        "_, frame1 = video.read()\n",
        "_, frame2 = video.read()\n",
        "_, frame3 = video.read()\n",
        "_, frame4 = video.read()\n",
        "_, frame5 = video.read()\n",
        "_, frame6 = video.read()\n",
        "_, frame7 = video.read()\n",
        "_, frame8 = video.read()\n",
        "_, frame9 = video.read()\n",
        "_, frame10 = video.read()\n",
        "_, frame11 = video.read()\n",
        "_, frame12 = video.read()\n",
        "_, frame13 = video.read()\n",
        "_, frame14 = video.read()\n",
        "_, frame15 = video.read()\n",
        "_, frame16 = video.read()\n",
        "_, frame17 = video.read()"
      ]
    },
    {
      "cell_type": "code",
      "execution_count": null,
      "metadata": {
        "colab": {
          "base_uri": "https://localhost:8080/"
        },
        "id": "i2gV6UQLk3qq",
        "outputId": "50a2857e-8a25-47a3-ba9d-167ec5428668"
      },
      "outputs": [
        {
          "output_type": "execute_result",
          "data": {
            "text/plain": [
              "691200"
            ]
          },
          "metadata": {},
          "execution_count": 4
        }
      ],
      "source": [
        "frame1.size"
      ]
    },
    {
      "cell_type": "code",
      "execution_count": null,
      "metadata": {
        "id": "MKhJkb67eNwW"
      },
      "outputs": [],
      "source": [
        "while video.isOpened(): \n",
        "\n",
        "  start = time.time()\n",
        "\n",
        "  diff = cv2.absdiff(frame1, frame17) \n",
        "  gray = cv2.cvtColor(diff, cv2.COLOR_BGR2GRAY)\n",
        "  blur = cv2.GaussianBlur(gray, (7, 7), 0) \n",
        "  _, thresh = cv2.threshold(blur, 20, 255, cv2.THRESH_BINARY) \n",
        "  dilated = cv2.dilate(thresh, None, iterations = 2) \n",
        "  сontours, _ = cv2.findContours(dilated, cv2.RETR_TREE, cv2.CHAIN_APPROX_SIMPLE) \n",
        " \n",
        "  for contour in сontours:\n",
        "    (x, y, x2, y2) = cv2.boundingRect(contour) \n",
        "    if cv2.contourArea(contour) < 300: \n",
        "      continue\n",
        "    cv2.rectangle(frame1, (x, y), (x+x2, y+y2), (0, 255, 0), 2) \n",
        "    cv2.fillConvexPoly(frame1, contour, color =(255,255,255))\n",
        "    \n",
        "  cv2_imshow(frame1)\n",
        "  frame1 = frame2  \n",
        "  frame2 = frame3 \n",
        "  frame3 = frame4 \n",
        "  frame4 = frame5 \n",
        "  frame5 = frame6 \n",
        "  frame6 = frame7 \n",
        "  frame7 = frame8 \n",
        "  frame8 = frame9 \n",
        "  frame9 = frame10  \n",
        "  frame10 = frame11 \n",
        "  frame11 = frame12 \n",
        "  frame12 = frame13 \n",
        "  frame13 = frame14 \n",
        "  frame14 = frame15 \n",
        "  frame15 = frame16 \n",
        "  frame16 = frame17 \n",
        "  _, frame17 = video.read()  \n",
        "\n",
        "  end = time.time()\n",
        "  print(format(end-start))\n"
      ]
    }
  ],
  "metadata": {
    "colab": {
      "collapsed_sections": [],
      "name": "Movement detector.ipynb",
      "provenance": []
    },
    "kernelspec": {
      "display_name": "Python 3",
      "name": "python3"
    },
    "language_info": {
      "name": "python"
    }
  },
  "nbformat": 4,
  "nbformat_minor": 0
}